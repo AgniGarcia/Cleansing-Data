{
 "cells": [
  {
   "cell_type": "code",
   "metadata": {
    "tags": [],
    "cell_id": "3972ecdc-7e4c-47db-a7e5-8fb2c055ed58",
    "deepnote_to_be_reexecuted": false,
    "source_hash": "2e368f12",
    "execution_start": 1659122207869,
    "execution_millis": 2588,
    "deepnote_cell_type": "code",
    "deepnote_cell_height": 148
   },
   "source": "import numpy as np\nimport pandas as pd\nimport seaborn as sns\nimport xlrd\nimport openpyxl",
   "execution_count": 1,
   "outputs": []
  },
  {
   "cell_type": "code",
   "metadata": {
    "cell_id": "ce1b2deca73f4643abc9df559835b343",
    "tags": [],
    "deepnote_to_be_reexecuted": false,
    "source_hash": "99f64601",
    "execution_start": 1659122374233,
    "execution_millis": 462,
    "deepnote_cell_type": "code",
    "deepnote_cell_height": 408
   },
   "source": "df = pd.DataFrame(pd.read_csv('SuperstoreOrders.csv'))\ndf.head()",
   "execution_count": 2,
   "outputs": [
    {
     "output_type": "execute_result",
     "execution_count": 2,
     "data": {
      "application/vnd.deepnote.dataframe.v3+json": {
       "column_count": 21,
       "row_count": 5,
       "columns": [
        {
         "name": "Row ID",
         "dtype": "int64",
         "stats": {
          "unique_count": 5,
          "nan_count": 0,
          "min": "1",
          "max": "5",
          "histogram": [
           {
            "bin_start": 1,
            "bin_end": 1.4,
            "count": 1
           },
           {
            "bin_start": 1.4,
            "bin_end": 1.8,
            "count": 0
           },
           {
            "bin_start": 1.8,
            "bin_end": 2.2,
            "count": 1
           },
           {
            "bin_start": 2.2,
            "bin_end": 2.6,
            "count": 0
           },
           {
            "bin_start": 2.6,
            "bin_end": 3,
            "count": 0
           },
           {
            "bin_start": 3,
            "bin_end": 3.4000000000000004,
            "count": 1
           },
           {
            "bin_start": 3.4000000000000004,
            "bin_end": 3.8000000000000003,
            "count": 0
           },
           {
            "bin_start": 3.8000000000000003,
            "bin_end": 4.2,
            "count": 1
           },
           {
            "bin_start": 4.2,
            "bin_end": 4.6,
            "count": 0
           },
           {
            "bin_start": 4.6,
            "bin_end": 5,
            "count": 1
           }
          ]
         }
        },
        {
         "name": "Order ID",
         "dtype": "object",
         "stats": {
          "unique_count": 3,
          "nan_count": 0,
          "categories": [
           {
            "name": "CA-2017-152156",
            "count": 2
           },
           {
            "name": "US-2016-108966",
            "count": 2
           },
           {
            "name": "CA-2017-138688",
            "count": 1
           }
          ]
         }
        },
        {
         "name": "Order Date",
         "dtype": "object",
         "stats": {
          "unique_count": 3,
          "nan_count": 0,
          "categories": [
           {
            "name": "08/11/17",
            "count": 2
           },
           {
            "name": "11/10/16",
            "count": 2
           },
           {
            "name": "12/06/17",
            "count": 1
           }
          ]
         }
        },
        {
         "name": "Ship Date",
         "dtype": "object",
         "stats": {
          "unique_count": 3,
          "nan_count": 0,
          "categories": [
           {
            "name": "11/11/17",
            "count": 2
           },
           {
            "name": "18/10/16",
            "count": 2
           },
           {
            "name": "16/06/17",
            "count": 1
           }
          ]
         }
        },
        {
         "name": "Ship Mode",
         "dtype": "object",
         "stats": {
          "unique_count": 2,
          "nan_count": 0,
          "categories": [
           {
            "name": "Second Class",
            "count": 3
           },
           {
            "name": "Standard Class",
            "count": 2
           }
          ]
         }
        },
        {
         "name": "Customer ID",
         "dtype": "object",
         "stats": {
          "unique_count": 3,
          "nan_count": 0,
          "categories": [
           {
            "name": "CG-12520",
            "count": 2
           },
           {
            "name": "SO-20335",
            "count": 2
           },
           {
            "name": "DV-13045",
            "count": 1
           }
          ]
         }
        },
        {
         "name": "Customer Name",
         "dtype": "object",
         "stats": {
          "unique_count": 3,
          "nan_count": 0,
          "categories": [
           {
            "name": "Claire Gute",
            "count": 2
           },
           {
            "name": "Sean O'Donnell",
            "count": 2
           },
           {
            "name": "Darrin Van Huff",
            "count": 1
           }
          ]
         }
        },
        {
         "name": "Segment",
         "dtype": "object",
         "stats": {
          "unique_count": 2,
          "nan_count": 0,
          "categories": [
           {
            "name": "Consumer",
            "count": 4
           },
           {
            "name": "Corporate",
            "count": 1
           }
          ]
         }
        },
        {
         "name": "Country",
         "dtype": "object",
         "stats": {
          "unique_count": 1,
          "nan_count": 0,
          "categories": [
           {
            "name": "United States",
            "count": 5
           }
          ]
         }
        },
        {
         "name": "City",
         "dtype": "object",
         "stats": {
          "unique_count": 3,
          "nan_count": 0,
          "categories": [
           {
            "name": "Henderson",
            "count": 2
           },
           {
            "name": "Fort Lauderdale",
            "count": 2
           },
           {
            "name": "Los Angeles",
            "count": 1
           }
          ]
         }
        },
        {
         "name": "State",
         "dtype": "object",
         "stats": {
          "unique_count": 3,
          "nan_count": 0,
          "categories": [
           {
            "name": "Kentucky",
            "count": 2
           },
           {
            "name": "Florida",
            "count": 2
           },
           {
            "name": "California",
            "count": 1
           }
          ]
         }
        },
        {
         "name": "Postal Code",
         "dtype": "float64",
         "stats": {
          "unique_count": 3,
          "nan_count": 0,
          "min": "33311.0",
          "max": "90036.0",
          "histogram": [
           {
            "bin_start": 33311,
            "bin_end": 38983.5,
            "count": 2
           },
           {
            "bin_start": 38983.5,
            "bin_end": 44656,
            "count": 2
           },
           {
            "bin_start": 44656,
            "bin_end": 50328.5,
            "count": 0
           },
           {
            "bin_start": 50328.5,
            "bin_end": 56001,
            "count": 0
           },
           {
            "bin_start": 56001,
            "bin_end": 61673.5,
            "count": 0
           },
           {
            "bin_start": 61673.5,
            "bin_end": 67346,
            "count": 0
           },
           {
            "bin_start": 67346,
            "bin_end": 73018.5,
            "count": 0
           },
           {
            "bin_start": 73018.5,
            "bin_end": 78691,
            "count": 0
           },
           {
            "bin_start": 78691,
            "bin_end": 84363.5,
            "count": 0
           },
           {
            "bin_start": 84363.5,
            "bin_end": 90036,
            "count": 1
           }
          ]
         }
        },
        {
         "name": "Region",
         "dtype": "object",
         "stats": {
          "unique_count": 2,
          "nan_count": 0,
          "categories": [
           {
            "name": "South",
            "count": 4
           },
           {
            "name": "West",
            "count": 1
           }
          ]
         }
        },
        {
         "name": "Product ID",
         "dtype": "object",
         "stats": {
          "unique_count": 5,
          "nan_count": 0,
          "categories": [
           {
            "name": "FUR-BO-10001798",
            "count": 1
           },
           {
            "name": "FUR-CH-10000454",
            "count": 1
           },
           {
            "name": "3 others",
            "count": 3
           }
          ]
         }
        },
        {
         "name": "Category",
         "dtype": "object",
         "stats": {
          "unique_count": 2,
          "nan_count": 0,
          "categories": [
           {
            "name": "Furniture",
            "count": 3
           },
           {
            "name": "Office Supplies",
            "count": 2
           }
          ]
         }
        },
        {
         "name": "Sub-Category",
         "dtype": "object",
         "stats": {
          "unique_count": 5,
          "nan_count": 0,
          "categories": [
           {
            "name": "Bookcases",
            "count": 1
           },
           {
            "name": "Chairs",
            "count": 1
           },
           {
            "name": "3 others",
            "count": 3
           }
          ]
         }
        },
        {
         "name": "Product Name",
         "dtype": "object",
         "stats": {
          "unique_count": 5,
          "nan_count": 0,
          "categories": [
           {
            "name": "Bush Somerset Collection Bookcase",
            "count": 1
           },
           {
            "name": "Hon Deluxe Fabric Upholstered Stacking Chairs, Rounded Back",
            "count": 1
           },
           {
            "name": "3 others",
            "count": 3
           }
          ]
         }
        },
        {
         "name": "Sales",
         "dtype": "float64",
         "stats": {
          "unique_count": 5,
          "nan_count": 0,
          "min": "14.62",
          "max": "957.5775",
          "histogram": [
           {
            "bin_start": 14.62,
            "bin_end": 108.91575,
            "count": 2
           },
           {
            "bin_start": 108.91575,
            "bin_end": 203.2115,
            "count": 0
           },
           {
            "bin_start": 203.2115,
            "bin_end": 297.50725,
            "count": 1
           },
           {
            "bin_start": 297.50725,
            "bin_end": 391.803,
            "count": 0
           },
           {
            "bin_start": 391.803,
            "bin_end": 486.09875,
            "count": 0
           },
           {
            "bin_start": 486.09875,
            "bin_end": 580.3945,
            "count": 0
           },
           {
            "bin_start": 580.3945,
            "bin_end": 674.69025,
            "count": 0
           },
           {
            "bin_start": 674.69025,
            "bin_end": 768.986,
            "count": 1
           },
           {
            "bin_start": 768.986,
            "bin_end": 863.28175,
            "count": 0
           },
           {
            "bin_start": 863.28175,
            "bin_end": 957.5775,
            "count": 1
           }
          ]
         }
        },
        {
         "name": "Quantity",
         "dtype": "int64",
         "stats": {
          "unique_count": 3,
          "nan_count": 0,
          "min": "2",
          "max": "5",
          "histogram": [
           {
            "bin_start": 2,
            "bin_end": 2.3,
            "count": 3
           },
           {
            "bin_start": 2.3,
            "bin_end": 2.6,
            "count": 0
           },
           {
            "bin_start": 2.6,
            "bin_end": 2.9,
            "count": 0
           },
           {
            "bin_start": 2.9,
            "bin_end": 3.2,
            "count": 1
           },
           {
            "bin_start": 3.2,
            "bin_end": 3.5,
            "count": 0
           },
           {
            "bin_start": 3.5,
            "bin_end": 3.8,
            "count": 0
           },
           {
            "bin_start": 3.8,
            "bin_end": 4.1,
            "count": 0
           },
           {
            "bin_start": 4.1,
            "bin_end": 4.4,
            "count": 0
           },
           {
            "bin_start": 4.4,
            "bin_end": 4.699999999999999,
            "count": 0
           },
           {
            "bin_start": 4.699999999999999,
            "bin_end": 5,
            "count": 1
           }
          ]
         }
        },
        {
         "name": "Discount",
         "dtype": "float64",
         "stats": {
          "unique_count": 3,
          "nan_count": 0,
          "min": "0.0",
          "max": "0.45",
          "histogram": [
           {
            "bin_start": 0,
            "bin_end": 0.045,
            "count": 3
           },
           {
            "bin_start": 0.045,
            "bin_end": 0.09,
            "count": 0
           },
           {
            "bin_start": 0.09,
            "bin_end": 0.135,
            "count": 0
           },
           {
            "bin_start": 0.135,
            "bin_end": 0.18,
            "count": 0
           },
           {
            "bin_start": 0.18,
            "bin_end": 0.22499999999999998,
            "count": 1
           },
           {
            "bin_start": 0.22499999999999998,
            "bin_end": 0.27,
            "count": 0
           },
           {
            "bin_start": 0.27,
            "bin_end": 0.315,
            "count": 0
           },
           {
            "bin_start": 0.315,
            "bin_end": 0.36,
            "count": 0
           },
           {
            "bin_start": 0.36,
            "bin_end": 0.40499999999999997,
            "count": 0
           },
           {
            "bin_start": 0.40499999999999997,
            "bin_end": 0.45,
            "count": 1
           }
          ]
         }
        },
        {
         "name": "Profit",
         "dtype": "float64",
         "stats": {
          "unique_count": 5,
          "nan_count": 0,
          "min": "-383.031",
          "max": "219.582",
          "histogram": [
           {
            "bin_start": -383.031,
            "bin_end": -322.7697,
            "count": 1
           },
           {
            "bin_start": -322.7697,
            "bin_end": -262.5084,
            "count": 0
           },
           {
            "bin_start": -262.5084,
            "bin_end": -202.2471,
            "count": 0
           },
           {
            "bin_start": -202.2471,
            "bin_end": -141.98579999999998,
            "count": 0
           },
           {
            "bin_start": -141.98579999999998,
            "bin_end": -81.72449999999998,
            "count": 0
           },
           {
            "bin_start": -81.72449999999998,
            "bin_end": -21.463199999999972,
            "count": 0
           },
           {
            "bin_start": -21.463199999999972,
            "bin_end": 38.798100000000034,
            "count": 2
           },
           {
            "bin_start": 38.798100000000034,
            "bin_end": 99.05940000000004,
            "count": 1
           },
           {
            "bin_start": 99.05940000000004,
            "bin_end": 159.32070000000004,
            "count": 0
           },
           {
            "bin_start": 159.32070000000004,
            "bin_end": 219.582,
            "count": 1
           }
          ]
         }
        },
        {
         "name": "_deepnote_index_column",
         "dtype": "int64"
        }
       ],
       "rows": [
        {
         "Row ID": 1,
         "Order ID": "CA-2017-152156",
         "Order Date": "08/11/17",
         "Ship Date": "11/11/17",
         "Ship Mode": "Second Class",
         "Customer ID": "CG-12520",
         "Customer Name": "Claire Gute",
         "Segment": "Consumer",
         "Country": "United States",
         "City": "Henderson",
         "State": "Kentucky",
         "Postal Code": 42420,
         "Region": "South",
         "Product ID": "FUR-BO-10001798",
         "Category": "Furniture",
         "Sub-Category": "Bookcases",
         "Product Name": "Bush Somerset Collection Bookcase",
         "Sales": 261.96,
         "Quantity": 2,
         "Discount": 0,
         "Profit": 41.9136,
         "_deepnote_index_column": 0
        },
        {
         "Row ID": 2,
         "Order ID": "CA-2017-152156",
         "Order Date": "08/11/17",
         "Ship Date": "11/11/17",
         "Ship Mode": "Second Class",
         "Customer ID": "CG-12520",
         "Customer Name": "Claire Gute",
         "Segment": "Consumer",
         "Country": "United States",
         "City": "Henderson",
         "State": "Kentucky",
         "Postal Code": 42420,
         "Region": "South",
         "Product ID": "FUR-CH-10000454",
         "Category": "Furniture",
         "Sub-Category": "Chairs",
         "Product Name": "Hon Deluxe Fabric Upholstered Stacking Chairs, Rounded Back",
         "Sales": 731.94,
         "Quantity": 3,
         "Discount": 0,
         "Profit": 219.582,
         "_deepnote_index_column": 1
        },
        {
         "Row ID": 3,
         "Order ID": "CA-2017-138688",
         "Order Date": "12/06/17",
         "Ship Date": "16/06/17",
         "Ship Mode": "Second Class",
         "Customer ID": "DV-13045",
         "Customer Name": "Darrin Van Huff",
         "Segment": "Corporate",
         "Country": "United States",
         "City": "Los Angeles",
         "State": "California",
         "Postal Code": 90036,
         "Region": "West",
         "Product ID": "OFF-LA-10000240",
         "Category": "Office Supplies",
         "Sub-Category": "Labels",
         "Product Name": "Self-Adhesive Address Labels for Typewriters by Universal",
         "Sales": 14.62,
         "Quantity": 2,
         "Discount": 0,
         "Profit": 6.8714,
         "_deepnote_index_column": 2
        },
        {
         "Row ID": 4,
         "Order ID": "US-2016-108966",
         "Order Date": "11/10/16",
         "Ship Date": "18/10/16",
         "Ship Mode": "Standard Class",
         "Customer ID": "SO-20335",
         "Customer Name": "Sean O'Donnell",
         "Segment": "Consumer",
         "Country": "United States",
         "City": "Fort Lauderdale",
         "State": "Florida",
         "Postal Code": 33311,
         "Region": "South",
         "Product ID": "FUR-TA-10000577",
         "Category": "Furniture",
         "Sub-Category": "Tables",
         "Product Name": "Bretford CR4500 Series Slim Rectangular Table",
         "Sales": 957.5775,
         "Quantity": 5,
         "Discount": 0.45,
         "Profit": -383.031,
         "_deepnote_index_column": 3
        },
        {
         "Row ID": 5,
         "Order ID": "US-2016-108966",
         "Order Date": "11/10/16",
         "Ship Date": "18/10/16",
         "Ship Mode": "Standard Class",
         "Customer ID": "SO-20335",
         "Customer Name": "Sean O'Donnell",
         "Segment": "Consumer",
         "Country": "United States",
         "City": "Fort Lauderdale",
         "State": "Florida",
         "Postal Code": 33311,
         "Region": "South",
         "Product ID": "OFF-ST-10000760",
         "Category": "Office Supplies",
         "Sub-Category": "Storage",
         "Product Name": "Eldon Fold 'N Roll Cart System",
         "Sales": 22.368,
         "Quantity": 2,
         "Discount": 0.2,
         "Profit": 2.5164,
         "_deepnote_index_column": 4
        }
       ]
      },
      "text/plain": "   Row ID        Order ID Order Date Ship Date       Ship Mode Customer ID  \\\n0       1  CA-2017-152156   08/11/17  11/11/17    Second Class    CG-12520   \n1       2  CA-2017-152156   08/11/17  11/11/17    Second Class    CG-12520   \n2       3  CA-2017-138688   12/06/17  16/06/17    Second Class    DV-13045   \n3       4  US-2016-108966   11/10/16  18/10/16  Standard Class    SO-20335   \n4       5  US-2016-108966   11/10/16  18/10/16  Standard Class    SO-20335   \n\n     Customer Name    Segment        Country             City  ...  \\\n0      Claire Gute   Consumer  United States        Henderson  ...   \n1      Claire Gute   Consumer  United States        Henderson  ...   \n2  Darrin Van Huff  Corporate  United States      Los Angeles  ...   \n3   Sean O'Donnell   Consumer  United States  Fort Lauderdale  ...   \n4   Sean O'Donnell   Consumer  United States  Fort Lauderdale  ...   \n\n  Postal Code  Region       Product ID         Category Sub-Category  \\\n0     42420.0   South  FUR-BO-10001798        Furniture    Bookcases   \n1     42420.0   South  FUR-CH-10000454        Furniture       Chairs   \n2     90036.0    West  OFF-LA-10000240  Office Supplies       Labels   \n3     33311.0   South  FUR-TA-10000577        Furniture       Tables   \n4     33311.0   South  OFF-ST-10000760  Office Supplies      Storage   \n\n                                        Product Name     Sales  Quantity  \\\n0                  Bush Somerset Collection Bookcase  261.9600         2   \n1  Hon Deluxe Fabric Upholstered Stacking Chairs,...  731.9400         3   \n2  Self-Adhesive Address Labels for Typewriters b...   14.6200         2   \n3      Bretford CR4500 Series Slim Rectangular Table  957.5775         5   \n4                     Eldon Fold 'N Roll Cart System   22.3680         2   \n\n   Discount    Profit  \n0      0.00   41.9136  \n1      0.00  219.5820  \n2      0.00    6.8714  \n3      0.45 -383.0310  \n4      0.20    2.5164  \n\n[5 rows x 21 columns]",
      "text/html": "<div>\n<style scoped>\n    .dataframe tbody tr th:only-of-type {\n        vertical-align: middle;\n    }\n\n    .dataframe tbody tr th {\n        vertical-align: top;\n    }\n\n    .dataframe thead th {\n        text-align: right;\n    }\n</style>\n<table border=\"1\" class=\"dataframe\">\n  <thead>\n    <tr style=\"text-align: right;\">\n      <th></th>\n      <th>Row ID</th>\n      <th>Order ID</th>\n      <th>Order Date</th>\n      <th>Ship Date</th>\n      <th>Ship Mode</th>\n      <th>Customer ID</th>\n      <th>Customer Name</th>\n      <th>Segment</th>\n      <th>Country</th>\n      <th>City</th>\n      <th>...</th>\n      <th>Postal Code</th>\n      <th>Region</th>\n      <th>Product ID</th>\n      <th>Category</th>\n      <th>Sub-Category</th>\n      <th>Product Name</th>\n      <th>Sales</th>\n      <th>Quantity</th>\n      <th>Discount</th>\n      <th>Profit</th>\n    </tr>\n  </thead>\n  <tbody>\n    <tr>\n      <th>0</th>\n      <td>1</td>\n      <td>CA-2017-152156</td>\n      <td>08/11/17</td>\n      <td>11/11/17</td>\n      <td>Second Class</td>\n      <td>CG-12520</td>\n      <td>Claire Gute</td>\n      <td>Consumer</td>\n      <td>United States</td>\n      <td>Henderson</td>\n      <td>...</td>\n      <td>42420.0</td>\n      <td>South</td>\n      <td>FUR-BO-10001798</td>\n      <td>Furniture</td>\n      <td>Bookcases</td>\n      <td>Bush Somerset Collection Bookcase</td>\n      <td>261.9600</td>\n      <td>2</td>\n      <td>0.00</td>\n      <td>41.9136</td>\n    </tr>\n    <tr>\n      <th>1</th>\n      <td>2</td>\n      <td>CA-2017-152156</td>\n      <td>08/11/17</td>\n      <td>11/11/17</td>\n      <td>Second Class</td>\n      <td>CG-12520</td>\n      <td>Claire Gute</td>\n      <td>Consumer</td>\n      <td>United States</td>\n      <td>Henderson</td>\n      <td>...</td>\n      <td>42420.0</td>\n      <td>South</td>\n      <td>FUR-CH-10000454</td>\n      <td>Furniture</td>\n      <td>Chairs</td>\n      <td>Hon Deluxe Fabric Upholstered Stacking Chairs,...</td>\n      <td>731.9400</td>\n      <td>3</td>\n      <td>0.00</td>\n      <td>219.5820</td>\n    </tr>\n    <tr>\n      <th>2</th>\n      <td>3</td>\n      <td>CA-2017-138688</td>\n      <td>12/06/17</td>\n      <td>16/06/17</td>\n      <td>Second Class</td>\n      <td>DV-13045</td>\n      <td>Darrin Van Huff</td>\n      <td>Corporate</td>\n      <td>United States</td>\n      <td>Los Angeles</td>\n      <td>...</td>\n      <td>90036.0</td>\n      <td>West</td>\n      <td>OFF-LA-10000240</td>\n      <td>Office Supplies</td>\n      <td>Labels</td>\n      <td>Self-Adhesive Address Labels for Typewriters b...</td>\n      <td>14.6200</td>\n      <td>2</td>\n      <td>0.00</td>\n      <td>6.8714</td>\n    </tr>\n    <tr>\n      <th>3</th>\n      <td>4</td>\n      <td>US-2016-108966</td>\n      <td>11/10/16</td>\n      <td>18/10/16</td>\n      <td>Standard Class</td>\n      <td>SO-20335</td>\n      <td>Sean O'Donnell</td>\n      <td>Consumer</td>\n      <td>United States</td>\n      <td>Fort Lauderdale</td>\n      <td>...</td>\n      <td>33311.0</td>\n      <td>South</td>\n      <td>FUR-TA-10000577</td>\n      <td>Furniture</td>\n      <td>Tables</td>\n      <td>Bretford CR4500 Series Slim Rectangular Table</td>\n      <td>957.5775</td>\n      <td>5</td>\n      <td>0.45</td>\n      <td>-383.0310</td>\n    </tr>\n    <tr>\n      <th>4</th>\n      <td>5</td>\n      <td>US-2016-108966</td>\n      <td>11/10/16</td>\n      <td>18/10/16</td>\n      <td>Standard Class</td>\n      <td>SO-20335</td>\n      <td>Sean O'Donnell</td>\n      <td>Consumer</td>\n      <td>United States</td>\n      <td>Fort Lauderdale</td>\n      <td>...</td>\n      <td>33311.0</td>\n      <td>South</td>\n      <td>OFF-ST-10000760</td>\n      <td>Office Supplies</td>\n      <td>Storage</td>\n      <td>Eldon Fold 'N Roll Cart System</td>\n      <td>22.3680</td>\n      <td>2</td>\n      <td>0.20</td>\n      <td>2.5164</td>\n    </tr>\n  </tbody>\n</table>\n<p>5 rows × 21 columns</p>\n</div>"
     },
     "metadata": {}
    }
   ]
  },
  {
   "cell_type": "code",
   "metadata": {
    "cell_id": "019e186ca8134b79882e26a5bc80f1eb",
    "tags": [],
    "deepnote_to_be_reexecuted": false,
    "source_hash": "947f36d4",
    "execution_start": 1659122382049,
    "execution_millis": 182,
    "deepnote_cell_type": "code",
    "deepnote_cell_height": 76
   },
   "source": "df = df.replace('�',' ', regex=True)",
   "execution_count": 3,
   "outputs": []
  },
  {
   "cell_type": "code",
   "metadata": {
    "cell_id": "ee061cc4c7c1490c86dc15b6c9865c0e",
    "tags": [],
    "deepnote_to_be_reexecuted": false,
    "source_hash": "b9cd0fc1",
    "execution_start": 1659122411089,
    "execution_millis": 634,
    "deepnote_cell_type": "code",
    "deepnote_cell_height": 226
   },
   "source": "df.iloc[[749],[1,6,16]]",
   "execution_count": 9,
   "outputs": [
    {
     "output_type": "execute_result",
     "execution_count": 9,
     "data": {
      "application/vnd.deepnote.dataframe.v3+json": {
       "column_count": 3,
       "row_count": 1,
       "columns": [
        {
         "name": "Order ID",
         "dtype": "object",
         "stats": {
          "unique_count": 1,
          "nan_count": 0,
          "categories": [
           {
            "name": "CA-2018-126074",
            "count": 1
           }
          ]
         }
        },
        {
         "name": "Customer Name",
         "dtype": "object",
         "stats": {
          "unique_count": 1,
          "nan_count": 0,
          "categories": [
           {
            "name": "Roland Fjeld",
            "count": 1
           }
          ]
         }
        },
        {
         "name": "Product Name",
         "dtype": "object",
         "stats": {
          "unique_count": 1,
          "nan_count": 0,
          "categories": [
           {
            "name": "GBC Durable Plastic Covers",
            "count": 1
           }
          ]
         }
        },
        {
         "name": "_deepnote_index_column",
         "dtype": "int64"
        }
       ],
       "rows": [
        {
         "Order ID": "CA-2018-126074",
         "Customer Name": "Roland Fjeld",
         "Product Name": "GBC Durable Plastic Covers",
         "_deepnote_index_column": 749
        }
       ]
      },
      "text/plain": "           Order ID Customer Name                Product Name\n749  CA-2018-126074  Roland Fjeld  GBC Durable Plastic Covers",
      "text/html": "<div>\n<style scoped>\n    .dataframe tbody tr th:only-of-type {\n        vertical-align: middle;\n    }\n\n    .dataframe tbody tr th {\n        vertical-align: top;\n    }\n\n    .dataframe thead th {\n        text-align: right;\n    }\n</style>\n<table border=\"1\" class=\"dataframe\">\n  <thead>\n    <tr style=\"text-align: right;\">\n      <th></th>\n      <th>Order ID</th>\n      <th>Customer Name</th>\n      <th>Product Name</th>\n    </tr>\n  </thead>\n  <tbody>\n    <tr>\n      <th>749</th>\n      <td>CA-2018-126074</td>\n      <td>Roland Fjeld</td>\n      <td>GBC Durable Plastic Covers</td>\n    </tr>\n  </tbody>\n</table>\n</div>"
     },
     "metadata": {}
    }
   ]
  },
  {
   "cell_type": "code",
   "metadata": {
    "cell_id": "1b1db5bafede44dc9b6b015e0315f237",
    "tags": [],
    "deepnote_to_be_reexecuted": false,
    "source_hash": "ac21075d",
    "execution_start": 1659044762903,
    "execution_millis": 1125,
    "deepnote_cell_type": "code",
    "deepnote_cell_height": 125.1875,
    "deepnote_output_heights": [
     611
    ]
   },
   "source": "%cd '~/work'\n%mkdir 'db'",
   "execution_count": null,
   "outputs": [
    {
     "name": "stdout",
     "text": "/work\n",
     "output_type": "stream"
    }
   ]
  },
  {
   "cell_type": "code",
   "metadata": {
    "cell_id": "4d0638bdd837459599f64f0ab85e4a52",
    "tags": [],
    "deepnote_to_be_reexecuted": false,
    "source_hash": "9190f93a",
    "execution_start": 1659044858803,
    "execution_millis": 1,
    "deepnote_cell_type": "code",
    "deepnote_cell_height": 131.1875,
    "deepnote_output_heights": [
     21.1875
    ]
   },
   "source": "dir_pandas = '~/work/db/{}'.format('SuperOrders.csv')\ndir_pandas",
   "execution_count": null,
   "outputs": [
    {
     "output_type": "execute_result",
     "execution_count": 42,
     "data": {
      "text/plain": "'~/work/db/SuperOrders.csv'"
     },
     "metadata": {}
    }
   ]
  },
  {
   "cell_type": "code",
   "metadata": {
    "cell_id": "9a61a1190fbd4c4786d4590716445eda",
    "tags": [],
    "deepnote_to_be_reexecuted": false,
    "source_hash": "13539f46",
    "execution_start": 1659044891512,
    "execution_millis": 300,
    "deepnote_cell_type": "code",
    "deepnote_cell_height": 76
   },
   "source": "df.to_csv(dir_pandas, index=True)",
   "execution_count": null,
   "outputs": []
  },
  {
   "cell_type": "markdown",
   "source": "<a style='text-decoration:none;line-height:16px;display:flex;color:#5B5B62;padding:10px;justify-content:end;' href='https://deepnote.com?utm_source=created-in-deepnote-cell&projectId=642f068f-eb05-4c1c-aa1c-9dc9c79a316d' target=\"_blank\">\n<img alt='Created in deepnote.com' style='display:inline;max-height:16px;margin:0px;margin-right:7.5px;' src='data:image/svg+xml;base64,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' > </img>\nCreated in <span style='font-weight:600;margin-left:4px;'>Deepnote</span></a>",
   "metadata": {
    "tags": [],
    "created_in_deepnote_cell": true,
    "deepnote_cell_type": "markdown"
   }
  }
 ],
 "nbformat": 4,
 "nbformat_minor": 2,
 "metadata": {
  "orig_nbformat": 2,
  "deepnote": {},
  "deepnote_notebook_id": "1df6e63b-16a7-433b-8398-47f7fc58879d",
  "deepnote_execution_queue": []
 }
}